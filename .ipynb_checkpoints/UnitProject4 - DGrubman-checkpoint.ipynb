{
 "cells": [
  {
   "cell_type": "markdown",
   "metadata": {},
   "source": [
    "# Unit Project 4 - D Grubman\n",
    "#### DS DC 18"
   ]
  },
  {
   "cell_type": "markdown",
   "metadata": {},
   "source": [
    "\n",
    "## Problem Statement"
   ]
  },
  {
   "cell_type": "markdown",
   "metadata": {},
   "source": [
    "Using admissions data from UCLA from a single admissions year, determine the how likely a student is admitted to UCLA graduate school by using GRE score, GPA from previous alma mater, and prestige ranking of their undergraduate university. We will be predicting acceptance using machine learning."
   ]
  },
  {
   "cell_type": "markdown",
   "metadata": {},
   "source": [
    "## Data\n",
    "#### Write up a description of your data and any cleaning that was completed."
   ]
  },
  {
   "cell_type": "markdown",
   "metadata": {},
   "source": [
    "Our dataset contained 400 observations, however in there was missing data in GRE, GPA, and Prestige. The final sample was 397. There was no time frame on the data. The following table shows shows a data dictionary for the raw data, as well as notes on each column."
   ]
  },
  {
   "cell_type": "markdown",
   "metadata": {},
   "source": [
    "Variable | Description | Type of Variable | Data Type notes |\n",
    ":---:| :---:| :---: | :---:\n",
    "Admit | 0 = Not Admited 1 = Admitted  | categorical | boolean\n",
    "GRE | GRE Score   | continuous | integer out of 800\n",
    "GPA | Undergrad GPA | continuous | int 0-4, 2 decimals\n",
    "Prestige | Rank of Alma Mater  | categorical | 4 = least prestigous, 1 = most prestigious"
   ]
  },
  {
   "cell_type": "markdown",
   "metadata": {},
   "source": [
    " The following shows admission status by gpa, gre, and prestige ranking."
   ]
  },
  {
   "cell_type": "markdown",
   "metadata": {},
   "source": [
    "Variable | Not Admitted | Admitted\n",
    "---| --- | ---\n",
    "GPA |  3.34 (0.376) | 3.49 (0.371)\n",
    "GRE | 573.58 (116.05) | 618.57 (109.26)\n",
    "Prestige 1 | 0.459016 % | 0.540984 %\n",
    "Prestige 2 | 0.641892 %| 0.358108 %\n",
    "Prestige 3 | 0.768595 %| 0.231405 %\n",
    "Prestige 4 |0.820896 %|  0.179104 %"
   ]
  },
  {
   "cell_type": "markdown",
   "metadata": {},
   "source": [
    "### Methods"
   ]
  },
  {
   "cell_type": "markdown",
   "metadata": {},
   "source": [
    "A logistic regression was completed to run this analysis. For this analysis prestige was broken up into dummy variables, and Prestige_1 was ignored in the regression due to multicollinearity.\n",
    "\n",
    "The process was run in Statsmodels. We calculated the probability of admission based on the predictive variables - GRE, GPA, and Prestige ranking.\n",
    "\n",
    "The result will demonstrate coefficients, as well as their corresponding confidence intervals."
   ]
  },
  {
   "cell_type": "markdown",
   "metadata": {
    "collapsed": true
   },
   "source": [
    "### Results"
   ]
  },
  {
   "cell_type": "markdown",
   "metadata": {},
   "source": [
    "Based on the results of the model, is it clear that the prestige ranking has an inverse relationship to being admitted - meaning a higher prestige \"ranking\" demonstrates a significantly lower change of being admitted to UCLA. Prestige has a tremendous influence on the likelihood of admission.\n",
    "\n",
    "It is also apparent (the OR statement) that for every 1 point of GPA a student is 2.18 percent more likely to be admitted. \n",
    "\n"
   ]
  },
  {
   "cell_type": "markdown",
   "metadata": {},
   "source": [
    "### Statsmodel results"
   ]
  },
  {
   "cell_type": "markdown",
   "metadata": {},
   "source": [
    "Results using a every logical combination of input values against our trained model. Note: this is not the original dataset - this is a technique to best visualize the data.\n",
    "#### Statified Against GPA\n",
    "![Results Stratified Against GPA](Cart_Results_GPA.png)"
   ]
  },
  {
   "cell_type": "markdown",
   "metadata": {},
   "source": [
    "#### Statified Against GRE Score\n",
    "![Results Stratified Against GRE](Cart_Results_GRE.png)"
   ]
  },
  {
   "cell_type": "markdown",
   "metadata": {},
   "source": [
    "### Discussion"
   ]
  },
  {
   "cell_type": "markdown",
   "metadata": {},
   "source": [
    "It is clear that Prestige Ranking is the covariate that influences the outcome substanationally. \n",
    "\n",
    "Even with a near perfect GPA, or GRE, the likelihood of admission is still around 20% for a student in a lower-ranked undergraduate university.\n",
    "\n",
    "On the other side, a person at a prestige score of 1 will have a distinct advantage. Upon visualizing the data, a person with Prestige 1, on the very low end of GRE or GPA  has an almost 30% chance of admission. \n",
    "\n",
    "Prestige rankings, in of themselves, is a good way of predicting the outcome, but as far as a admissions office goes, it may be viewed as a way to discriminate. "
   ]
  },
  {
   "cell_type": "markdown",
   "metadata": {},
   "source": [
    "It's likely our dataset is underfitting, because we're truly only taking 3 covariates. The regression is a first order polynomial and its unlikely that it is overfitting the data. We could potentially look to introduce second-order polynomials.\n",
    "\n",
    "In the future, more data is always helpful. It may also be helpful to have a more detailed prestige ranking, to prevent underfitting. It would also be intersting to have more detailed predictive variables - in state v. out of state, a way of dividing types of degrees (maybe GRE isn't meaningful for an Art degree, ect), or any demographic information on the student themselves."
   ]
  },
  {
   "cell_type": "code",
   "execution_count": null,
   "metadata": {
    "collapsed": true
   },
   "outputs": [],
   "source": []
  }
 ],
 "metadata": {
  "kernelspec": {
   "display_name": "Python 2",
   "language": "python",
   "name": "python2"
  },
  "language_info": {
   "codemirror_mode": {
    "name": "ipython",
    "version": 2
   },
   "file_extension": ".py",
   "mimetype": "text/x-python",
   "name": "python",
   "nbconvert_exporter": "python",
   "pygments_lexer": "ipython2",
   "version": "2.7.13"
  }
 },
 "nbformat": 4,
 "nbformat_minor": 2
}
